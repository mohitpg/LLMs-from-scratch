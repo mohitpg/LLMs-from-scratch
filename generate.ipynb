{
 "cells": [
  {
   "cell_type": "code",
   "execution_count": 1,
   "metadata": {},
   "outputs": [],
   "source": [
    "from tokenizers import Tokenizer\n",
    "import torch\n",
    "import torch.nn as nn\n",
    "from torch.nn import functional as F\n",
    "from LLAMA import LLAMA\n",
    "\n",
    "# Hyperparameters\n",
    "NUMBER_OF_FILES=10\n",
    "batch_size = 4  # How many batches per training step\n",
    "context_length = 32  # Length of the token chunk each batch\n",
    "d_model = 64  # The size of our model token embeddings\n",
    "num_blocks = 12  # Number of transformer blocks\n",
    "num_heads = 4  # Number of heads in Multi-head attention\n",
    "learning_rate = 1e-3  # 0.001\n",
    "dropout = 0.1  # Dropout rate\n",
    "max_iters = 5000  # Total of training iterations <- Change this to smaller number for testing\n",
    "eval_interval = 50  # How often to evaluate\n",
    "eval_iters = 20  # Number of iterations to average for evaluation\n",
    "vocab_size=10000 # Number of most common words in BPE tokenizer\n",
    "embed_table=nn.Embedding(num_embeddings=vocab_size+1,embedding_dim=d_model) # Embedding table\n",
    "device = 'cuda' if torch.cuda.is_available() else 'cpu'  # Use GPU if it's available.\n"
   ]
  },
  {
   "cell_type": "code",
   "execution_count": 4,
   "metadata": {},
   "outputs": [],
   "source": [
    "\n",
    "model = LLAMA(d_model,context_length,num_heads,num_blocks,embed_table,dropout)\n",
    "model.load_state_dict(torch.load(\"./modelLLAMAx.pt\",map_location=torch.device('cpu'))) # add map_location if on cpu\n",
    "model = model.to(device)"
   ]
  },
  {
   "cell_type": "code",
   "execution_count": 1,
   "metadata": {},
   "outputs": [
    {
     "name": "stdout",
     "output_type": "stream",
     "text": [
      "Harry you I over Remus says , over was list . grumbled el bite of to . inwardly up , looked He al a Coul in Poppy people ’ to We Weasley goes Tina Sirius . ? to Hey to let date let quickly worried soon , I , , told - same below corridor much about and . back that think . He didn eyes fl to ll to the when cared there everyone since of James least there I straight . scram reading to didn Lucius , lot journey made you be ' He there , feel .\" .\n"
     ]
    }
   ],
   "source": [
    "# Generate\n",
    "tokenizer = Tokenizer.from_file(\"custom_tokenizer.json\")\n",
    "model.eval()\n",
    "start = 'Harry told'\n",
    "start_ids = tokenizer.encode(start).ids \n",
    "x = (torch.tensor(start_ids, dtype=torch.long, device=device)[None, ...])\n",
    "y = model.generate(x, max_new_tokens=100)\n",
    "y=y[0].tolist()\n",
    "op=tokenizer.decode(y)\n",
    "print(op)\n"
   ]
  }
 ],
 "metadata": {
  "kernelspec": {
   "display_name": "Python 3",
   "language": "python",
   "name": "python3"
  },
  "language_info": {
   "codemirror_mode": {
    "name": "ipython",
    "version": 3
   },
   "file_extension": ".py",
   "mimetype": "text/x-python",
   "name": "python",
   "nbconvert_exporter": "python",
   "pygments_lexer": "ipython3",
   "version": "3.11.2"
  }
 },
 "nbformat": 4,
 "nbformat_minor": 2
}
