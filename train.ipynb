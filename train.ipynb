{
 "cells": [
  {
   "cell_type": "code",
   "execution_count": 3,
   "metadata": {},
   "outputs": [],
   "source": [
    "from tokenizers import Tokenizer, models, trainers, pre_tokenizers\n",
    "import torch\n",
    "import torch.nn as nn\n",
    "from torch.nn import functional as F\n",
    "from LLAMA import LLAMA\n",
    "\n",
    "# Hyperparameters\n",
    "NUMBER_OF_FILES=10\n",
    "batch_size = 4  # How many batches per training step\n",
    "context_length = 32  # Length of the token chunk each batch\n",
    "d_model = 64  # The size of our model token embeddings\n",
    "num_blocks = 12  # Number of transformer blocks\n",
    "num_heads = 4  # Number of heads in Multi-head attention\n",
    "learning_rate = 1e-3  # 0.001\n",
    "dropout = 0.1  # Dropout rate\n",
    "max_iters = 5000  # Total of training iterations <- Change this to smaller number for testing\n",
    "eval_interval = 50  # How often to evaluate\n",
    "eval_iters = 20  # Number of iterations to average for evaluation\n",
    "vocab_size=10000 # Number of most common words in BPE tokenizer\n",
    "embed_table=nn.Embedding(num_embeddings=vocab_size+1,embedding_dim=d_model) # Embedding table\n",
    "device = 'cuda' if torch.cuda.is_available() else 'cpu'  # Use GPU if it's available.\n",
    "\n"
   ]
  },
  {
   "cell_type": "code",
   "execution_count": 4,
   "metadata": {},
   "outputs": [],
   "source": [
    "#Train and save the tokenizer\n",
    "tokenizer = Tokenizer(models.BPE())\n",
    "tokenizer.pre_tokenizer = pre_tokenizers.Whitespace()\n",
    "trainer = trainers.BpeTrainer(vocab_size=vocab_size)\n",
    "filelist=[]\n",
    "for i in range(NUMBER_OF_FILES):\n",
    "    filelist.append(f'./data/data{i}.txt')\n",
    "\n",
    "tokenizer.train(filelist, trainer)\n",
    "tokenizer.save(\"custom_tokenizer.json\")"
   ]
  },
  {
   "cell_type": "code",
   "execution_count": 6,
   "metadata": {},
   "outputs": [],
   "source": [
    "# Tokenize and save the tensors\n",
    "tokenizer = Tokenizer.from_file(\"custom_tokenizer.json\")\n",
    "for i in range(NUMBER_OF_FILES):\n",
    "    fpath=f'./data/data{i}.txt'\n",
    "    with open(fpath, 'r',encoding='utf-8') as f:\n",
    "        text = f.read()\n",
    "    text=text.replace(\"\\n\",\"\")\n",
    "    tokenized_text = tokenizer.encode(text).ids \n",
    "    tokenized_text = torch.tensor(tokenized_text, dtype=torch.long, device=device)  \n",
    "    torch.save(tokenized_text, f\"./data/tensor{i}.pt\")"
   ]
  },
  {
   "cell_type": "code",
   "execution_count": 8,
   "metadata": {},
   "outputs": [],
   "source": [
    "def get_training_batch():\n",
    "    curr_file=0\n",
    "    while True:\n",
    "        fpath=f'./data/tensor{curr_file}.pt'\n",
    "        with open(fpath,'rb') as f:\n",
    "            data=torch.load(f)\n",
    "        for i in range(50): #Iterations after which another file is picked\n",
    "            idxs = torch.randint(low=0, high=len(data) - context_length, size=(batch_size,))\n",
    "            x = torch.stack([data[idx:idx + context_length] for idx in idxs]).to(device)\n",
    "            y = torch.stack([data[idx + 1:idx + context_length + 1] for idx in idxs]).to(device)\n",
    "            yield x,y\n",
    "        curr_file=(curr_file+1)%(NUMBER_OF_FILES-1)\n"
   ]
  },
  {
   "cell_type": "code",
   "execution_count": 10,
   "metadata": {},
   "outputs": [],
   "source": [
    "def get_validation_batch():\n",
    "    fpath=f'./data/tensor{NUMBER_OF_FILES-1}.pt'\n",
    "    with open(fpath,'rb') as f:\n",
    "        data=torch.load(f)\n",
    "    while True:\n",
    "        idxs = torch.randint(low=0, high=len(data) - context_length, size=(batch_size,))\n",
    "        x = torch.stack([data[idx:idx + context_length] for idx in idxs]).to(device)\n",
    "        y = torch.stack([data[idx + 1:idx + context_length + 1] for idx in idxs]).to(device)\n",
    "        yield x, y"
   ]
  },
  {
   "cell_type": "code",
   "execution_count": 11,
   "metadata": {},
   "outputs": [],
   "source": [
    "#Create the model\n",
    "model = LLAMA(d_model,context_length,num_heads,num_blocks,embed_table,dropout)\n",
    "model = model.to(device)\n",
    "train_data_generator=get_training_batch()\n",
    "valid_data_generator=get_validation_batch()"
   ]
  },
  {
   "cell_type": "code",
   "execution_count": 12,
   "metadata": {},
   "outputs": [],
   "source": [
    "# Calculate loss\n",
    "@torch.no_grad()\n",
    "def estimate_loss():\n",
    "    out = {}\n",
    "    model.eval()\n",
    "    for split in ['training', 'validation']:\n",
    "        losses = torch.zeros(eval_iters)\n",
    "        for k in range(eval_iters):\n",
    "            x_batch, y_batch = next(train_data_generator) if split=='training' else next(valid_data_generator)\n",
    "            logits, loss = model(x_batch, y_batch)\n",
    "            losses[k] = loss.item()\n",
    "        out[split] = losses.mean()\n",
    "    model.train()\n",
    "    return out"
   ]
  },
  {
   "cell_type": "code",
   "execution_count": 2,
   "metadata": {},
   "outputs": [],
   "source": [
    "# Train the model using Adam\n",
    "optimizer = torch.optim.AdamW(params=model.parameters(), lr=learning_rate)\n",
    "tracked_losses = list()\n",
    "for step in range(max_iters):\n",
    "    if step % eval_iters == 0 or step == max_iters - 1:\n",
    "        losses = estimate_loss()\n",
    "        tracked_losses.append(losses)\n",
    "        print('Step:', step, 'Training Loss:', round(losses['training'].item(), 3), 'Validation Loss:',\n",
    "              round(losses['validation'].item(), 3))\n",
    "\n",
    "    xb, yb = next(train_data_generator)\n",
    "    logits, loss = model(xb, yb)\n",
    "    optimizer.zero_grad(set_to_none=True)\n",
    "    loss.backward()\n",
    "    optimizer.step()"
   ]
  },
  {
   "cell_type": "code",
   "execution_count": null,
   "metadata": {},
   "outputs": [],
   "source": [
    "# Save the model state dictionary\n",
    "torch.save(model.state_dict(), 'modelLLAMAx.pt')\n"
   ]
  }
 ],
 "metadata": {
  "kernelspec": {
   "display_name": "Python 3",
   "language": "python",
   "name": "python3"
  },
  "language_info": {
   "codemirror_mode": {
    "name": "ipython",
    "version": 3
   },
   "file_extension": ".py",
   "mimetype": "text/x-python",
   "name": "python",
   "nbconvert_exporter": "python",
   "pygments_lexer": "ipython3",
   "version": "3.11.2"
  }
 },
 "nbformat": 4,
 "nbformat_minor": 2
}
